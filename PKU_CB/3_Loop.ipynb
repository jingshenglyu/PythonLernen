{
 "cells": [
  {
   "cell_type": "markdown",
   "metadata": {},
   "source": [
    "# 循环"
   ]
  },
  {
   "cell_type": "code",
   "execution_count": 1,
   "metadata": {},
   "outputs": [
    {
     "name": "stdout",
     "output_type": "stream",
     "text": [
      "m: 327\n",
      "n: 829\n",
      "distance: 502\n"
     ]
    }
   ],
   "source": [
    "## if\n",
    "## calculate the distance\n",
    "m = 327\n",
    "n = 829\n",
    "d = m - n\n",
    "if d<0:\n",
    "    d = -d\n",
    "else:\n",
    "    d = d\n",
    "print('m:',m)\n",
    "print('n:',n)\n",
    "print('distance:',d)"
   ]
  },
  {
   "cell_type": "code",
   "execution_count": 2,
   "metadata": {},
   "outputs": [
    {
     "name": "stdout",
     "output_type": "stream",
     "text": [
      "age: 20\n",
      "Adult\n"
     ]
    }
   ],
   "source": [
    "## if 选择语句\n",
    "age = 20\n",
    "print('age:',age)\n",
    "\n",
    "if 0 <= age <= 6:\n",
    "    print('Children')\n",
    "if 7 <= age <= 17:\n",
    "    print('Teenager')\n",
    "if 18 <= age <= 65:\n",
    "    print('Adult')\n",
    "if age >= 66:\n",
    "    print('Senior')"
   ]
  },
  {
   "cell_type": "code",
   "execution_count": 14,
   "metadata": {},
   "outputs": [
    {
     "name": "stdout",
     "output_type": "stream",
     "text": [
      "a = 11\n",
      "11.0\n",
      "<class 'float'>\n",
      "Middle\n"
     ]
    }
   ],
   "source": [
    "a = float(input('a = '))\n",
    "print(a)\n",
    "print(type(a))\n",
    "if a < 10:\n",
    "    print('Great')\n",
    "elif 10 <= a <=15:\n",
    "    print('Middle')\n",
    "else:\n",
    "    print('Low')"
   ]
  },
  {
   "cell_type": "code",
   "execution_count": 16,
   "metadata": {},
   "outputs": [
    {
     "name": "stdout",
     "output_type": "stream",
     "text": [
      "4\n",
      "3\n",
      "2\n",
      "1\n"
     ]
    }
   ],
   "source": [
    "## while循环\n",
    "## print the positive number from 2 to 5\n",
    "n = 5\n",
    "while n > 0:\n",
    "    n = n - 1\n",
    "    if n < 1:\n",
    "        break\n",
    "    print(n)"
   ]
  },
  {
   "cell_type": "code",
   "execution_count": 17,
   "metadata": {},
   "outputs": [
    {
     "name": "stdout",
     "output_type": "stream",
     "text": [
      "4\n",
      "3\n",
      "2\n",
      "END\n"
     ]
    }
   ],
   "source": [
    "## consitional loop\n",
    "\n",
    "n = 5\n",
    "while n > 0:\n",
    "    n = n -1\n",
    "    if n < 2:\n",
    "        continue\n",
    "    print(n)\n",
    "else:\n",
    "    print('END')"
   ]
  },
  {
   "cell_type": "code",
   "execution_count": 19,
   "metadata": {},
   "outputs": [
    {
     "name": "stdout",
     "output_type": "stream",
     "text": [
      "1 Traped! 0 Steps\n",
      "2 Traped! 1 Steps\n",
      "3 Traped! 7 Steps\n",
      "4 Traped! 2 Steps\n",
      "5 Traped! 5 Steps\n",
      "6 Traped! 8 Steps\n",
      "7 Traped! 16 Steps\n",
      "8 Traped! 3 Steps\n",
      "9 Traped! 19 Steps\n"
     ]
    }
   ],
   "source": [
    "## 嵌套循环\n",
    "for i in range(1, 10):\n",
    "    n = i\n",
    "    step = 0\n",
    "    while n != 1:\n",
    "        if n % 2 == 0:\n",
    "            n = n // 2\n",
    "        else:\n",
    "            n = n * 3 + 1\n",
    "        step += 1\n",
    "    else:\n",
    "        print(i, 'Traped!', step,'Steps')"
   ]
  },
  {
   "cell_type": "code",
   "execution_count": 1,
   "metadata": {},
   "outputs": [],
   "source": [
    "## now is page 227"
   ]
  },
  {
   "cell_type": "code",
   "execution_count": 2,
   "metadata": {},
   "outputs": [
    {
     "name": "stdout",
     "output_type": "stream",
     "text": [
      "0\n",
      "1\n",
      "2\n",
      "3\n",
      "4\n"
     ]
    }
   ],
   "source": [
    "## for loop\n",
    "for n in range(5):\n",
    "    print(n)"
   ]
  },
  {
   "cell_type": "code",
   "execution_count": 3,
   "metadata": {},
   "outputs": [
    {
     "name": "stdout",
     "output_type": "stream",
     "text": [
      "a\n",
      "123\n",
      "True\n"
     ]
    }
   ],
   "source": [
    "alist = ['a',123,True]\n",
    "for v in alist:\n",
    "    print(v)"
   ]
  },
  {
   "cell_type": "code",
   "execution_count": 4,
   "metadata": {},
   "outputs": [
    {
     "name": "stdout",
     "output_type": "stream",
     "text": [
      "name Tom\n",
      "age 18\n",
      "gender male\n"
     ]
    }
   ],
   "source": [
    "adic = {'name':'Tom', 'age':'18','gender':'male'}\n",
    "for k in adic:\n",
    "    print(k,adic[k])"
   ]
  },
  {
   "cell_type": "code",
   "execution_count": 6,
   "metadata": {},
   "outputs": [
    {
     "name": "stdout",
     "output_type": "stream",
     "text": [
      "name Tom\n",
      "age 18\n",
      "gender male\n"
     ]
    }
   ],
   "source": [
    "for k,v in adic.items():\n",
    "    print(k,v)"
   ]
  },
  {
   "cell_type": "code",
   "execution_count": 7,
   "metadata": {},
   "outputs": [
    {
     "data": {
      "text/plain": [
       "[0, 1, 2, 3, 4, 5, 6, 7, 8, 9]"
      ]
     },
     "execution_count": 7,
     "metadata": {},
     "output_type": "execute_result"
    }
   ],
   "source": [
    "## range function\n",
    "## range(<start>,<end>,<step>)\n",
    "list(range(10))"
   ]
  },
  {
   "cell_type": "code",
   "execution_count": 8,
   "metadata": {},
   "outputs": [
    {
     "data": {
      "text/plain": [
       "[1, 3, 5, 7, 9]"
      ]
     },
     "execution_count": 8,
     "metadata": {},
     "output_type": "execute_result"
    }
   ],
   "source": [
    "list(range(1,10,2))"
   ]
  },
  {
   "cell_type": "code",
   "execution_count": null,
   "metadata": {},
   "outputs": [],
   "source": []
  }
 ],
 "metadata": {
  "kernelspec": {
   "display_name": "Python 3",
   "language": "python",
   "name": "python3"
  },
  "language_info": {
   "codemirror_mode": {
    "name": "ipython",
    "version": 3
   },
   "file_extension": ".py",
   "mimetype": "text/x-python",
   "name": "python",
   "nbconvert_exporter": "python",
   "pygments_lexer": "ipython3",
   "version": "3.7.4"
  }
 },
 "nbformat": 4,
 "nbformat_minor": 2
}
