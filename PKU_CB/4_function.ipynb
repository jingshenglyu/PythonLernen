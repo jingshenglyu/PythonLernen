{
 "cells": [
  {
   "cell_type": "markdown",
   "metadata": {},
   "source": [
    "# 函数\n",
    "参考：PKU PPT 238～262\n",
    "     Video PKU\n"
   ]
  },
  {
   "cell_type": "markdown",
   "metadata": {},
   "source": [
    "封装：\n",
    "1. 容器: 数据的封装\n",
    "2. 函数: 语句的封装"
   ]
  },
  {
   "cell_type": "code",
   "execution_count": 1,
   "metadata": {},
   "outputs": [
    {
     "name": "stdout",
     "output_type": "stream",
     "text": [
      "<function sum_list at 0x7fa2acf138c0>\n",
      "sum of my list:324\n"
     ]
    }
   ],
   "source": [
    "## 定义sum函数\n",
    "def sum_list(alist):\n",
    "    sum_temp = 0\n",
    "    for i in alist:\n",
    "        sum_temp += i\n",
    "    return sum_temp\n",
    "\n",
    "print(sum_list)\n",
    "\n",
    "my_list = [23, 45, 67, 89, 100]\n",
    "\n",
    "my_sum = sum_list(my_list)\n",
    "print(\"sum of my list:%d\" %(my_sum,))"
   ]
  },
  {
   "cell_type": "code",
   "execution_count": 2,
   "metadata": {},
   "outputs": [
    {
     "data": {
      "text/plain": [
       "15"
      ]
     },
     "execution_count": 2,
     "metadata": {},
     "output_type": "execute_result"
    }
   ],
   "source": [
    "## local variable and global variable\n",
    "def addNum(num1, num2):\n",
    "    result = num1 + num2\n",
    "    return result\n",
    "\n",
    "num1 = 5\n",
    "num2 = 10\n",
    "addNum(num1, num2)\n"
   ]
  },
  {
   "cell_type": "code",
   "execution_count": 3,
   "metadata": {},
   "outputs": [
    {
     "data": {
      "text/plain": [
       "5"
      ]
     },
     "execution_count": 3,
     "metadata": {},
     "output_type": "execute_result"
    }
   ],
   "source": [
    "## local varial\n",
    "def addNum():\n",
    "    num1, num2 = 2, 3\n",
    "    return(num1 + num2)\n",
    "\n",
    "addNum()"
   ]
  },
  {
   "cell_type": "code",
   "execution_count": 4,
   "metadata": {},
   "outputs": [
    {
     "data": {
      "text/plain": [
       "(5, 10)"
      ]
     },
     "execution_count": 4,
     "metadata": {},
     "output_type": "execute_result"
    }
   ],
   "source": [
    "num1, num2"
   ]
  },
  {
   "cell_type": "code",
   "execution_count": 5,
   "metadata": {},
   "outputs": [
    {
     "data": {
      "text/plain": [
       "5"
      ]
     },
     "execution_count": 5,
     "metadata": {},
     "output_type": "execute_result"
    }
   ],
   "source": [
    "## 定义全局变量 using 'global'\n",
    "def addNum():\n",
    "    global num1, num2\n",
    "    num1, num2 = 2, 3\n",
    "    return(num1 + num2)\n",
    "\n",
    "addNum()"
   ]
  },
  {
   "cell_type": "code",
   "execution_count": 6,
   "metadata": {},
   "outputs": [
    {
     "data": {
      "text/plain": [
       "(2, 3)"
      ]
     },
     "execution_count": 6,
     "metadata": {},
     "output_type": "execute_result"
    }
   ],
   "source": [
    "num1, num2"
   ]
  },
  {
   "cell_type": "code",
   "execution_count": 7,
   "metadata": {},
   "outputs": [],
   "source": [
    "## map function\n",
    "## We use the function to get the new list, when we need to the same for the elements of the list.\n",
    "\n",
    "num = [10,20,40,80,160]\n",
    "lst = [2,4,6,8,10]\n",
    "\n",
    "def mul3(a):\n",
    "    return a * 3"
   ]
  },
  {
   "cell_type": "code",
   "execution_count": 8,
   "metadata": {},
   "outputs": [
    {
     "name": "stdout",
     "output_type": "stream",
     "text": [
      "[30, 60, 120, 240, 480]\n"
     ]
    }
   ],
   "source": [
    "print(list(map(mul3,num)))"
   ]
  },
  {
   "cell_type": "code",
   "execution_count": 9,
   "metadata": {},
   "outputs": [
    {
     "name": "stdout",
     "output_type": "stream",
     "text": [
      "[10.5, 20.25, 40.166666666666664, 80.125, 160.1]\n"
     ]
    }
   ],
   "source": [
    "def atob(a, b):\n",
    "    return a + 1.0/b\n",
    "\n",
    "print(list(map(atob,num,lst)))"
   ]
  },
  {
   "cell_type": "markdown",
   "metadata": {},
   "source": [
    "#### Syntax of map function:\n",
    "    map(function, iterable, ...)"
   ]
  },
  {
   "cell_type": "code",
   "execution_count": 10,
   "metadata": {},
   "outputs": [
    {
     "name": "stdout",
     "output_type": "stream",
     "text": [
      "[30, 60, 120, 240, 480]\n",
      "[10.5, 20.25, 40.166666666666664, 80.125, 160.1]\n",
      "[30, 60, 120, 240, 480]\n",
      "[10.5, 20.25, 40.166666666666664, 80.125, 160.1]\n"
     ]
    }
   ],
   "source": [
    "## lambda表达式 \n",
    "## We don't need to create a new function, when it isn't so necessary. \n",
    "num = [10,20,40,80,160]\n",
    "lst = [2,4,6,8,10]\n",
    "\n",
    "def mul3(a):\n",
    "    return a * 3\n",
    "\n",
    "print(list(map(mul3,num)))\n",
    "\n",
    "def atob(a, b):\n",
    "    return a + 1.0/b\n",
    "\n",
    "print(list(map(atob,num,lst)))\n",
    "print(list(map(lambda a:a * 3, num)))\n",
    "print(list(map(lambda a,b:a+1.0/b, num,lst)))"
   ]
  },
  {
   "cell_type": "markdown",
   "metadata": {},
   "source": [
    "#### Syntax of lambda:\n",
    "    lambda <elements>:<expression>"
   ]
  },
  {
   "cell_type": "markdown",
   "metadata": {},
   "source": [
    "### 形参parameter与实参argument"
   ]
  },
  {
   "cell_type": "code",
   "execution_count": 11,
   "metadata": {},
   "outputs": [
    {
     "data": {
      "text/plain": [
       "3"
      ]
     },
     "execution_count": 11,
     "metadata": {},
     "output_type": "execute_result"
    }
   ],
   "source": [
    "def add(a,b):\n",
    "    return a+b\n",
    "\n",
    "add(1,2)\n",
    "## (a,b) is parameter\n",
    "## (1,2) is argument"
   ]
  },
  {
   "cell_type": "code",
   "execution_count": 12,
   "metadata": {},
   "outputs": [
    {
     "name": "stdout",
     "output_type": "stream",
     "text": [
      "===func_test\n",
      "k1=v1, k2=v2, k3=23\n",
      "k1=ab, k2=cd, k3=768\n",
      "k1=K, k2=KK, k3=23\n"
     ]
    }
   ],
   "source": [
    "## fixed parameter\n",
    "\n",
    "def func_test(key1, key2, key3=23):\n",
    "    print(\"k1=%s, k2=%s, k3=%s\" %(key1, key2, key3))\n",
    "    \n",
    "print(\"===func_test\")\n",
    "\n",
    "## 没有传入key3，传入了缺省值\n",
    "func_test('v1','v2')\n",
    "\n",
    "## 传入了key3\n",
    "func_test('ab','cd',768)\n",
    "\n",
    "## 使用参数名时，可以无视顺序\n",
    "func_test(key2='KK', key1='K')"
   ]
  },
  {
   "cell_type": "code",
   "execution_count": 13,
   "metadata": {},
   "outputs": [
    {
     "name": "stdout",
     "output_type": "stream",
     "text": [
      "====func_test2\n",
      "arg0=12\n",
      "arg1=34\n",
      "arg2=abcd\n",
      "arg3=True\n"
     ]
    }
   ],
   "source": [
    "## variable parameter\n",
    "\n",
    "def func_test2(*args):  ##可以传入0个或无限个无名参数\n",
    "    for arg, i in zip(args, range(len(args))):\n",
    "        print(\"arg%d=%s\" %(i,arg))\n",
    "        \n",
    "print(\"====func_test2\")\n",
    "func_test2(12, 34, 'abcd', True)"
   ]
  },
  {
   "cell_type": "code",
   "execution_count": 14,
   "metadata": {},
   "outputs": [
    {
     "name": "stdout",
     "output_type": "stream",
     "text": [
      "====func_test3\n",
      "myname=Tom\n",
      "sep=comma\n",
      "age=23\n"
     ]
    }
   ],
   "source": [
    "def func_test3(**kwargs):\n",
    "    for key, val in kwargs.items():\n",
    "        print(\"%s=%s\" %(key,val))\n",
    "        \n",
    "print(\"====func_test3\")\n",
    "func_test3(myname='Tom', sep='comma', age=23)"
   ]
  },
  {
   "cell_type": "markdown",
   "metadata": {},
   "source": [
    "#### 调用函数参数\n",
    "#### Calling the parameters of the functions\n",
    "    1. no name arguments\n",
    "    func(arg1, arg2, arg3)\n",
    "    \n",
    "    2. arguments with 'key'\n",
    "    func(key1=arg1, key2= arg2, ...)"
   ]
  },
  {
   "cell_type": "code",
   "execution_count": 15,
   "metadata": {},
   "outputs": [
    {
     "name": "stdout",
     "output_type": "stream",
     "text": [
      "====func_Test\n",
      "k1=v1, k2=v2, k3=23\n",
      "k1=ab, k2=cd, k3=768\n",
      "k1=K, k2=KK, k3=23\n"
     ]
    }
   ],
   "source": [
    "def func_Test(key1, key2, key3=23):\n",
    "    print(\"k1=%s, k2=%s, k3=%s\" %(key1,key2,key3))\n",
    "    \n",
    "print(\"====func_Test\")\n",
    "\n",
    "## 没有传入key3,用了缺省值\n",
    "func_Test('v1','v2')\n",
    "\n",
    "## 传入了key3\n",
    "func_Test('ab','cd',768)\n",
    "\n",
    "## 使用参数名可以无视顺序\n",
    "func_Test(key2='KK', key1='K')"
   ]
  },
  {
   "cell_type": "code",
   "execution_count": null,
   "metadata": {},
   "outputs": [],
   "source": []
  }
 ],
 "metadata": {
  "kernelspec": {
   "display_name": "Python 3",
   "language": "python",
   "name": "python3"
  },
  "language_info": {
   "codemirror_mode": {
    "name": "ipython",
    "version": 3
   },
   "file_extension": ".py",
   "mimetype": "text/x-python",
   "name": "python",
   "nbconvert_exporter": "python",
   "pygments_lexer": "ipython3",
   "version": "3.7.4"
  }
 },
 "nbformat": 4,
 "nbformat_minor": 2
}
