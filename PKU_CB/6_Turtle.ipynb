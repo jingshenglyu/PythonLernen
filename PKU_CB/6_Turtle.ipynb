{
 "cells": [
  {
   "cell_type": "markdown",
   "metadata": {},
   "source": [
    "# 海龟做图 Turtle\n",
    "\n",
    "    参考：  PKU PPT 349~372\n",
    "           Video P41~P43"
   ]
  },
  {
   "cell_type": "code",
   "execution_count": 1,
   "metadata": {},
   "outputs": [],
   "source": [
    "## Draw a triangle\n",
    "\n",
    "import turtle\n",
    "p = turtle.pen(pencolor=\"red\", pensize=5)    ##create a pen\n",
    "#turtle.pencolor(\"brown\")  ##color of pen is blue\n",
    "#p.pensize(5)        ##size of pen is 5\n",
    "turtle.forward(100)      ##海龟向前（屏幕正右方向）运动100\n",
    "turtle.left(120)         ##海龟向左转动120°\n",
    "turtle.forward(100)      ##海龟向前100\n",
    "turtle.left(120)         ##海龟向左120°\n",
    "turtle.forward(100)      ##海龟向前100\n",
    "turtle.left(120)         ##海龟向左120"
   ]
  },
  {
   "cell_type": "code",
   "execution_count": null,
   "metadata": {},
   "outputs": [],
   "source": [
    "## Draw a tree\n",
    "\n",
    "import turtle\n",
    "def tree(branchLen, t):\n",
    "    if branchLen > 5:\n",
    "        t.forward(branchLen)\n",
    "        t.right(20)\n",
    "        tree(branchLen-15,t)\n",
    "        t.left(40)\n",
    "        tree(branchLen-15,t)\n",
    "        t.right(20)\n",
    "        t.backward(branchLen)\n",
    "        \n",
    "def main():\n",
    "    t =turtle.Turtle() ##create a turtle\n",
    "    myWin = turtle.Screen()\n",
    "    t.left(90)\n",
    "    t.up()\n",
    "    t.backward(100)\n",
    "    t.down()\n",
    "    t.color(\"green\")\n",
    "    tree(75,t)\n",
    "    myWin.exitonclick()\n",
    "\n",
    "main()"
   ]
  },
  {
   "cell_type": "code",
   "execution_count": null,
   "metadata": {},
   "outputs": [],
   "source": []
  }
 ],
 "metadata": {
  "kernelspec": {
   "display_name": "Python 3",
   "language": "python",
   "name": "python3"
  },
  "language_info": {
   "codemirror_mode": {
    "name": "ipython",
    "version": 3
   },
   "file_extension": ".py",
   "mimetype": "text/x-python",
   "name": "python",
   "nbconvert_exporter": "python",
   "pygments_lexer": "ipython3",
   "version": "3.7.4"
  }
 },
 "nbformat": 4,
 "nbformat_minor": 2
}
