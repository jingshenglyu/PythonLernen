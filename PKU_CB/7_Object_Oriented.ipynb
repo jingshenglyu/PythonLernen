{
 "cells": [
  {
   "cell_type": "markdown",
   "metadata": {},
   "source": [
    "# 面向对象Object Oriented\n",
    "\n",
    "    对象object: \n",
    "        be a variable, a data structure, a function, or a method, and as such, is a value in memory                       referenced by an identifier.\n",
    "    \n",
    "        object refers to a particular instance of a class, where the object can be a combination of                       variables, functions, and data structures."
   ]
  },
  {
   "cell_type": "code",
   "execution_count": 1,
   "metadata": {},
   "outputs": [
    {
     "data": {
      "text/plain": [
       "94726964044576"
      ]
     },
     "execution_count": 1,
     "metadata": {},
     "output_type": "execute_result"
    }
   ],
   "source": [
    "id(1)"
   ]
  },
  {
   "cell_type": "code",
   "execution_count": 2,
   "metadata": {},
   "outputs": [
    {
     "data": {
      "text/plain": [
       "int"
      ]
     },
     "execution_count": 2,
     "metadata": {},
     "output_type": "execute_result"
    }
   ],
   "source": [
    "type(1)"
   ]
  },
  {
   "cell_type": "code",
   "execution_count": 3,
   "metadata": {},
   "outputs": [
    {
     "data": {
      "text/plain": [
       "['__abs__',\n",
       " '__add__',\n",
       " '__and__',\n",
       " '__bool__',\n",
       " '__ceil__',\n",
       " '__class__',\n",
       " '__delattr__',\n",
       " '__dir__',\n",
       " '__divmod__',\n",
       " '__doc__',\n",
       " '__eq__',\n",
       " '__float__',\n",
       " '__floor__',\n",
       " '__floordiv__',\n",
       " '__format__',\n",
       " '__ge__',\n",
       " '__getattribute__',\n",
       " '__getnewargs__',\n",
       " '__gt__',\n",
       " '__hash__',\n",
       " '__index__',\n",
       " '__init__',\n",
       " '__init_subclass__',\n",
       " '__int__',\n",
       " '__invert__',\n",
       " '__le__',\n",
       " '__lshift__',\n",
       " '__lt__',\n",
       " '__mod__',\n",
       " '__mul__',\n",
       " '__ne__',\n",
       " '__neg__',\n",
       " '__new__',\n",
       " '__or__',\n",
       " '__pos__',\n",
       " '__pow__',\n",
       " '__radd__',\n",
       " '__rand__',\n",
       " '__rdivmod__',\n",
       " '__reduce__',\n",
       " '__reduce_ex__',\n",
       " '__repr__',\n",
       " '__rfloordiv__',\n",
       " '__rlshift__',\n",
       " '__rmod__',\n",
       " '__rmul__',\n",
       " '__ror__',\n",
       " '__round__',\n",
       " '__rpow__',\n",
       " '__rrshift__',\n",
       " '__rshift__',\n",
       " '__rsub__',\n",
       " '__rtruediv__',\n",
       " '__rxor__',\n",
       " '__setattr__',\n",
       " '__sizeof__',\n",
       " '__str__',\n",
       " '__sub__',\n",
       " '__subclasshook__',\n",
       " '__truediv__',\n",
       " '__trunc__',\n",
       " '__xor__',\n",
       " 'bit_length',\n",
       " 'conjugate',\n",
       " 'denominator',\n",
       " 'from_bytes',\n",
       " 'imag',\n",
       " 'numerator',\n",
       " 'real',\n",
       " 'to_bytes']"
      ]
     },
     "execution_count": 3,
     "metadata": {},
     "output_type": "execute_result"
    }
   ],
   "source": [
    "dir(1)"
   ]
  },
  {
   "cell_type": "code",
   "execution_count": 4,
   "metadata": {},
   "outputs": [
    {
     "data": {
      "text/plain": [
       "140216215804416"
      ]
     },
     "execution_count": 4,
     "metadata": {},
     "output_type": "execute_result"
    }
   ],
   "source": [
    "id(abs)"
   ]
  },
  {
   "cell_type": "code",
   "execution_count": 5,
   "metadata": {},
   "outputs": [
    {
     "data": {
      "text/plain": [
       "builtin_function_or_method"
      ]
     },
     "execution_count": 5,
     "metadata": {},
     "output_type": "execute_result"
    }
   ],
   "source": [
    "type(abs)"
   ]
  },
  {
   "cell_type": "code",
   "execution_count": 6,
   "metadata": {},
   "outputs": [
    {
     "data": {
      "text/plain": [
       "['__call__',\n",
       " '__class__',\n",
       " '__delattr__',\n",
       " '__dir__',\n",
       " '__doc__',\n",
       " '__eq__',\n",
       " '__format__',\n",
       " '__ge__',\n",
       " '__getattribute__',\n",
       " '__gt__',\n",
       " '__hash__',\n",
       " '__init__',\n",
       " '__init_subclass__',\n",
       " '__le__',\n",
       " '__lt__',\n",
       " '__module__',\n",
       " '__name__',\n",
       " '__ne__',\n",
       " '__new__',\n",
       " '__qualname__',\n",
       " '__reduce__',\n",
       " '__reduce_ex__',\n",
       " '__repr__',\n",
       " '__self__',\n",
       " '__setattr__',\n",
       " '__sizeof__',\n",
       " '__str__',\n",
       " '__subclasshook__',\n",
       " '__text_signature__']"
      ]
     },
     "execution_count": 6,
     "metadata": {},
     "output_type": "execute_result"
    }
   ],
   "source": [
    "dir(abs)"
   ]
  },
  {
   "cell_type": "markdown",
   "metadata": {},
   "source": [
    "### 创建对象 Create a object\n",
    "\n",
    "    赋值语句 给予 对象名称，对象可以有多个名称(变量引用)，但只有一个id\n",
    "    引用形式：\n",
    "        <object name>.<properties>\n",
    "    Example:\n",
    "        'abc'.upper()\n",
    "        (1+2j).real\n",
    "        (1+2j).imag"
   ]
  },
  {
   "cell_type": "markdown",
   "metadata": {},
   "source": [
    "### 类 Class\n",
    "\n",
    "    Define:\n",
    "        is an extensible program-code-template for creating objects, providing initial values for state (member variables) and implementations of behavior (member functions or methods).\n",
    "        类是对象的模版，封装了对应现实尸体的性质和行为\n",
    "        \n",
    "    如果类是 模具，那么对象就是模具制造出的 零件。\n",
    "    \n",
    "### 类：\n",
    "        封装性，  继承性，  多态性\n",
    "        \n",
    "# *规定： 类用BIG大写字母开头，函数用LITTLE小写字母开头"
   ]
  },
  {
   "cell_type": "code",
   "execution_count": 7,
   "metadata": {},
   "outputs": [
    {
     "name": "stdout",
     "output_type": "stream",
     "text": [
      "Force<0, 1>\n",
      "Force<3, 5>\n"
     ]
    }
   ],
   "source": [
    "## Create a Force-Class\n",
    "\n",
    "class Force:\n",
    "    def __init__(self, x, y):  ## x,y方向分量\n",
    "        self.fx, self.fy = x, y\n",
    "        \n",
    "    def show(self):\n",
    "        print(\"Force<%s, %s>\" %(self.fx, self.fy))  \n",
    "        \n",
    "    def add(self, force2):  ##与另一个力的合成\n",
    "        x = self.fx + force2.fx\n",
    "        y = self.fy + force2.fy\n",
    "        return Force(x, y)\n",
    "    \n",
    "## Create a Force-object\n",
    "f1 = Force(0,1)\n",
    "f1.show()\n",
    "\n",
    "## Create a another Force-object\n",
    "f2 = Force(3,4)\n",
    "\n",
    "## Composition of forces\n",
    "f3 = f1.add(f2)\n",
    "f3.show()"
   ]
  },
  {
   "cell_type": "markdown",
   "metadata": {},
   "source": [
    "### 类的初始化\n",
    "\n",
    "    class<class name>:\n",
    "        def __init__(self,<arguments>)\n",
    "        def <method>(self,<arguments>)\n",
    "        \n",
    "    \n",
    "##        self: 指的是这个对象实例"
   ]
  },
  {
   "cell_type": "markdown",
   "metadata": {},
   "source": [
    "### 类的特殊方法 special method\n",
    "\n",
    "    所有特殊方法使用__(两个下划线) 开始 和 结束\n",
    "    \n",
    "    构造：\n",
    "        __init__(self,[...)    构造函数，实例化对象时 调用\n",
    "        \n",
    "    析构：\n",
    "        __del__(self,[...)     析构函数，销毁对象时 调用 "
   ]
  },
  {
   "cell_type": "code",
   "execution_count": 8,
   "metadata": {},
   "outputs": [
    {
     "name": "stdout",
     "output_type": "stream",
     "text": [
      "Force<0, 1>\n",
      "Fadd=F<3, 5>\n",
      "Fmul = F<0.0, 4.5>\n",
      "F<0, 1>==F<3, 4>? -> False\n"
     ]
    }
   ],
   "source": [
    "class Force:\n",
    "    def __init__(self, x, y):  ## x,y方向分量\n",
    "        self.fx, self.fy = x, y\n",
    "        \n",
    "    def show(self):\n",
    "        print(\"Force<%s, %s>\" %(self.fx, self.fy)) \n",
    "        \n",
    "    def add(self, force2):  ##与另一个力的合成\n",
    "        x = self.fx + force2.fx\n",
    "        y = self.fy + force2.fy\n",
    "        return Force(x, y)\n",
    "        \n",
    "    __add__= add\n",
    "    \n",
    "    def __str__(self):\n",
    "        return \"F<%s, %s>\" %(self.fx,self.fy)\n",
    "    \n",
    "    def __mul__(self,n):\n",
    "        x, y = self.fx * n, self.fy * n\n",
    "        return Force(x, y)\n",
    "    \n",
    "    def __eq__(self,force2):\n",
    "        return (self.fx == force2.fx) and (self.fy == force2.fy)\n",
    "    \n",
    "## Create a Force-object\n",
    "f1 = Force(0,1)\n",
    "f1.show()\n",
    "\n",
    "## Create a another Force-object\n",
    "f2 = Force(3,4)\n",
    "\n",
    "# using operator\n",
    "f3 = f1 + f2\n",
    "print(\"Fadd=%s\" %(f3))\n",
    "\n",
    "f3 = f1 * 4.5\n",
    "print(\"Fmul = %s\" %(f3))\n",
    "print(\"%s==%s? -> %s\" %(f1, f2, f1 == f2))"
   ]
  },
  {
   "cell_type": "markdown",
   "metadata": {},
   "source": [
    "### 高级特性\n",
    "\n",
    "    列表方法:\n",
    "        .sort()函数\n",
    "        sorted()通用函数\n",
    "        ** 列表内元素类型需相同\n",
    "        \n",
    "    特殊方法:\n",
    "        __lt__: 任何自定义类都可以使用x<y这样比较"
   ]
  },
  {
   "cell_type": "code",
   "execution_count": 9,
   "metadata": {},
   "outputs": [
    {
     "data": {
      "text/plain": [
       "[0, 1, 2, 4, 7]"
      ]
     },
     "execution_count": 9,
     "metadata": {},
     "output_type": "execute_result"
    }
   ],
   "source": [
    "## sort()\n",
    "\n",
    "num = [4, 2, 7, 0, 1]\n",
    "num.sort()\n",
    "num"
   ]
  },
  {
   "cell_type": "code",
   "execution_count": 10,
   "metadata": {},
   "outputs": [
    {
     "data": {
      "text/plain": [
       "[7, 4, 2, 1, 0]"
      ]
     },
     "execution_count": 10,
     "metadata": {},
     "output_type": "execute_result"
    }
   ],
   "source": [
    "num.sort(reverse = True)  ##降序排列\n",
    "num"
   ]
  },
  {
   "cell_type": "code",
   "execution_count": 11,
   "metadata": {},
   "outputs": [
    {
     "data": {
      "text/plain": [
       "['Arthur', 'Bruce', 'Connor', 'Edward', 'John']"
      ]
     },
     "execution_count": 11,
     "metadata": {},
     "output_type": "execute_result"
    }
   ],
   "source": [
    "## sorted()\n",
    "\n",
    "name = ['John','Connor','Bruce','Arthur','Edward']\n",
    "sorted_name = sorted(name)\n",
    "sorted_name"
   ]
  },
  {
   "cell_type": "code",
   "execution_count": 12,
   "metadata": {},
   "outputs": [
    {
     "name": "stdout",
     "output_type": "stream",
     "text": [
      "Original: [(Jack, 80), (Jane, 75), (Smith, 82), (Cook, 90), (Tom, 70)]\n",
      "Sorted: [(Cook, 90), (Smith, 82), (Jack, 80), (Jane, 75), (Tom, 70)]\n"
     ]
    }
   ],
   "source": [
    "## 成绩排序\n",
    "\n",
    "class Student:\n",
    "    def __init__(self,name,grade):\n",
    "        self.name, self.grade = name, grade\n",
    "        \n",
    "    ##内置sort函数只引用 < 比较符来判断前后\n",
    "    def __lt__(self, other):\n",
    "        #成绩比other高的,排在他前面\n",
    "        return self.grade > other.grade\n",
    "        #return self.name < other.name ##按姓名顺序排序   \n",
    "    \n",
    "    #Student的容易读字符串表示\n",
    "    def __str__(self):\n",
    "        return \"(%s, %d)\" %(self.name, self.grade)\n",
    "    \n",
    "    #Student的正式字符串表示，我们让它跟容易读表示相同\n",
    "    __repr__ = __str__\n",
    "    \n",
    "s = list()  ##构造一个列表\n",
    "\n",
    "# 添加Student对象到List中\n",
    "s.append(Student('Jack',80))\n",
    "s.append(Student('Jane',75))\n",
    "s.append(Student('Smith',82))\n",
    "s.append(Student('Cook',90))\n",
    "s.append(Student('Tom',70))\n",
    "print(\"Original:\", s)\n",
    "\n",
    "# 对List进行排序，注意这是内置sort方法\n",
    "s.sort()\n",
    "\n",
    "# 查看结果\n",
    "print('Sorted:',s)"
   ]
  },
  {
   "cell_type": "markdown",
   "metadata": {},
   "source": [
    "### 类的继承inheritance\n",
    "    \n",
    "    inheritance:\n",
    "        代码复用\n",
    "    \n",
    "    \n",
    "    被继承类：父类\n",
    "    继承类： 子类"
   ]
  },
  {
   "cell_type": "code",
   "execution_count": 13,
   "metadata": {},
   "outputs": [
    {
     "name": "stdout",
     "output_type": "stream",
     "text": [
      "BMW:run 200 miles!\n",
      "BMW:fuel out!\n",
      "Tesla:fuel out!\n"
     ]
    }
   ],
   "source": [
    "## 类的继承\n",
    "\n",
    "class Car:\n",
    "    def __init__(self, name):\n",
    "        self.name = name\n",
    "        self.remain_mile = 0\n",
    "        \n",
    "    def fill_fuel(self, miles):  #加燃油里程\n",
    "        self.remain_mile = miles\n",
    "        \n",
    "    def run(self,  miles):  ##跑miles英里\n",
    "        print(self.name, end=':')\n",
    "        if self.remain_mile >= miles:\n",
    "            self.remain_mile -= miles\n",
    "            print('run %d miles!' %(miles))\n",
    "        else:\n",
    "            print('fuel out!')\n",
    "            \n",
    "class GasCar(Car):\n",
    "    def fill_fuel(self, gas):  ##加汽油gas升\n",
    "        self.remain_mile = gas * 6.0  ## 每升跑6英里\n",
    "        \n",
    "class ElecCar(Car):\n",
    "    def fill_fuel(self, power):  ##充电power度\n",
    "        self.remain_mile = power * 3.0  ##每度电3英里\n",
    "        \n",
    "gcar = GasCar('BMW')\n",
    "gcar.fill_fuel(50.0)\n",
    "gcar.run(200.0)\n",
    "GasCar.run(gcar, 200.0)  ##这个语句等价于上面的语句（gcar == self），但是.run()被调用了两次，所以此时为400miles，汽油已耗尽\n",
    "\n",
    "ecar = ElecCar('Tesla')\n",
    "ecar.fill_fuel(60.0)\n",
    "ecar.run(200.0)"
   ]
  },
  {
   "cell_type": "markdown",
   "metadata": {},
   "source": [
    "### 子类与父类\n",
    "\n",
    "    Define:\n",
    "        class <子类名>(<父类名>):\n",
    "            def <重定义方法>(self, ...):\n",
    "                ...\n",
    "\n",
    "    覆盖(Override):\n",
    "        1. 子类对象可以调用父类方法，除非此方法在子类中被重新定义\n",
    "        2. 如果子类同名方法覆盖了父类方法，仍可调用父类方法\n",
    "        3. 子类也可添加父类中没有的方法\n",
    "        \n",
    "# **在类定义中，所有方法的首个参数一般都是self\n",
    "### 作用：实例化过程中传入的三所有数据都赋值给 这个变量\n",
    "\n",
    "\n",
    "## *** 关于self\n",
    "\n",
    "    <对象>.<方法>(<参数>) == <类>.<方法>(<对象>,<参数>)\n",
    "    *这里的(<对象>, ...)就是self"
   ]
  },
  {
   "cell_type": "code",
   "execution_count": null,
   "metadata": {},
   "outputs": [],
   "source": []
  }
 ],
 "metadata": {
  "kernelspec": {
   "display_name": "Python 3",
   "language": "python",
   "name": "python3"
  },
  "language_info": {
   "codemirror_mode": {
    "name": "ipython",
    "version": 3
   },
   "file_extension": ".py",
   "mimetype": "text/x-python",
   "name": "python",
   "nbconvert_exporter": "python",
   "pygments_lexer": "ipython3",
   "version": "3.7.4"
  }
 },
 "nbformat": 4,
 "nbformat_minor": 2
}
