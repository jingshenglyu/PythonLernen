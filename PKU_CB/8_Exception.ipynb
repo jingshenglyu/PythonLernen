{
 "cells": [
  {
   "cell_type": "markdown",
   "metadata": {},
   "source": [
    "# 异常处理Exception Handling\n",
    "\n",
    "参考：PKU PPT 422～504\n",
    "\n",
    "    代码错误类型：\n",
    "        1. SyntaxError语法错误\n",
    "        \n",
    "        2. ZeroDivision Error 除以0错误\n",
    "        \n",
    "        3. IndexError 列表下标越界\n",
    "            本来只有4个元素，却要访问alist[4],这表示要访问列表的第五个元素，因为[0]表示第一个元素\n",
    "            \n",
    "        4. TypeError 类型错误\n",
    "            列表内有'str'和'int'，却用.sort()排序\n",
    "            \n",
    "        5. NameError 访问变量不存在\n",
    "            之前没有defined的变量，直接操作\n",
    "            \n",
    "        6. KeyError 字典关键字不存在\n",
    "            比如字典内标签只有'A''B''C',却要访问'D'标签\n",
    "            \n",
    "        7. AttributeError 未知变量属性\n",
    "            比如定义了一个列表然后用.sorted()排序，这是错误的； 应该使用sorted(alist)/alist.sort()排序，alist.sorted()是未知变量属性错误\n",
    "            \n",
    "## 捕捉错误\n",
    "    \n",
    "####    try-except语句：\n",
    "    \n",
    "    \n",
    "    try:\n",
    "        <检测语句>\n",
    "    except <错误类型> [as e]:\n",
    "        <处理异常>\n",
    "        \n",
    "    try: # 为缩进代码设置仙境\n",
    "    except: #处理错误代码\n",
    "    \n",
    "    ** 针对不同异常可以设置多个except\n",
    "    "
   ]
  },
  {
   "cell_type": "markdown",
   "metadata": {},
   "source": [
    "####    try-finally语句：\n",
    "    \n",
    "    try:\n",
    "        <检测语句>\n",
    "    except <错误类型> [as e]:\n",
    "        <处理异常>\n",
    "    finally:\n",
    "        <语句块>\n",
    "\n",
    "    finally: 无论出错与否，都执行代码\n",
    "    \n",
    "    **如果try语句执行是没有出错，会跳过except,直接执行finally语句"
   ]
  },
  {
   "cell_type": "markdown",
   "metadata": {},
   "source": [
    "#### else语句\n",
    "\n",
    "    try:\n",
    "        <检测语句>\n",
    "    except <错误类型> [as e]:\n",
    "        <处理异常>\n",
    "    else:\n",
    "        <语句块>\n",
    "        \n",
    "    else: #没有出错执行的代码"
   ]
  },
  {
   "cell_type": "code",
   "execution_count": 1,
   "metadata": {},
   "outputs": [],
   "source": [
    "## now is 432"
   ]
  },
  {
   "cell_type": "code",
   "execution_count": null,
   "metadata": {},
   "outputs": [],
   "source": []
  }
 ],
 "metadata": {
  "kernelspec": {
   "display_name": "Python 3",
   "language": "python",
   "name": "python3"
  },
  "language_info": {
   "codemirror_mode": {
    "name": "ipython",
    "version": 3
   },
   "file_extension": ".py",
   "mimetype": "text/x-python",
   "name": "python",
   "nbconvert_exporter": "python",
   "pygments_lexer": "ipython3",
   "version": "3.7.4"
  }
 },
 "nbformat": 4,
 "nbformat_minor": 2
}
