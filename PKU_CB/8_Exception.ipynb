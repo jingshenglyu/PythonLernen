{
 "cells": [
  {
   "cell_type": "markdown",
   "metadata": {},
   "source": [
    "# 异常处理Exception Handling\n",
    "\n",
    "参考：PKU PPT 422～504\n",
    "\n",
    "    代码错误类型：\n",
    "        1. SyntaxError语法错误\n",
    "        \n",
    "        2. ZeroDivision Error 除以0错误\n",
    "        \n",
    "        3. IndexError 列表下标越界\n",
    "            本来只有4个元素，却要访问alist[4],这表示要访问列表的第五个元素，因为[0]表示第一个元素\n",
    "            \n",
    "        4. TypeError 类型错误\n",
    "            列表内有'str'和'int'，却用.sort()排序\n",
    "            \n",
    "        5. NameError 访问变量不存在\n",
    "            之前没有defined的变量，直接操作\n",
    "            \n",
    "        6. KeyError 字典关键字不存在\n",
    "            比如字典内标签只有'A''B''C',却要访问'D'标签\n",
    "            \n",
    "        7. AttributeError 未知变量属性\n",
    "            比如定义了一个列表然后用.sorted()排序，这是错误的； 应该使用sorted(alist)/alist.sort()排序，alist.sorted()是未知变量属性错误\n",
    "            \n",
    "## 捕捉错误\n",
    "    \n",
    "####    try-except语句：\n",
    "    \n",
    "    \n",
    "    try:\n",
    "        <检测语句>\n",
    "    except <错误类型> [as e]:\n",
    "        <处理异常>\n",
    "        \n",
    "    try: # 为缩进代码设置仙境\n",
    "    except: #处理错误代码\n",
    "    \n",
    "    ** 针对不同异常可以设置多个except\n",
    "    "
   ]
  },
  {
   "cell_type": "markdown",
   "metadata": {},
   "source": [
    "####    try-finally语句：\n",
    "    \n",
    "    try:\n",
    "        <检测语句>\n",
    "    except <错误类型> [as e]:\n",
    "        <处理异常>\n",
    "    finally:\n",
    "        <语句块>\n",
    "\n",
    "    finally: 无论出错与否，都执行代码\n",
    "    \n",
    "    **如果try语句执行是没有出错，会跳过except,直接执行finally语句"
   ]
  },
  {
   "cell_type": "markdown",
   "metadata": {},
   "source": [
    "#### else语句\n",
    "\n",
    "    try:\n",
    "        <检测语句>\n",
    "    except <错误类型> [as e]:\n",
    "        <处理异常>\n",
    "    else:\n",
    "        <语句块>\n",
    "        \n",
    "    else: #没有出错执行的代码"
   ]
  },
  {
   "cell_type": "code",
   "execution_count": 1,
   "metadata": {},
   "outputs": [],
   "source": [
    "## now is 432"
   ]
  },
  {
   "cell_type": "code",
   "execution_count": 2,
   "metadata": {},
   "outputs": [
    {
     "name": "stdout",
     "output_type": "stream",
     "text": [
      "try...\n",
      "TypeError: unsupported operand type(s) for /: 'int' and 'str'\n",
      "finally...\n",
      "END\n"
     ]
    }
   ],
   "source": [
    "try:\n",
    "    print('try...')\n",
    "    r = 10 / 'xyz'\n",
    "    print('result:', r)\n",
    "except TypeError as e:\n",
    "    print('TypeError:', e)\n",
    "except ZeroDivisionError as e:\n",
    "    print('ZeroDivisionError:', e)\n",
    "else:\n",
    "    print('No Error!')\n",
    "finally:\n",
    "    print('finally...')\n",
    "print('END')"
   ]
  },
  {
   "cell_type": "markdown",
   "metadata": {},
   "source": [
    "### 推导式\n",
    "\n",
    "    Define: 从一个或多个叠大气快速简洁创建数据结构的方法，使用循环和判断\n",
    "    用途： 用来生成list, dict, set\n",
    "    \n",
    "    list:\n",
    "        [<表达式> for <变量> in <可迭代对象> if <逻辑条件>]\n",
    "    \n",
    "    dict:\n",
    "        {<键值表达式>:<元素表达式> for <变量> in <课迭代对象> if <逻辑表达式>}\n",
    "        \n",
    "    set:\n",
    "        {<元素表达式> for <变量> in <可迭代对象> if <逻辑条件>}"
   ]
  },
  {
   "cell_type": "code",
   "execution_count": 3,
   "metadata": {},
   "outputs": [
    {
     "data": {
      "text/plain": [
       "[0, 1, 4, 9, 16, 25, 36, 49, 64, 81]"
      ]
     },
     "execution_count": 3,
     "metadata": {},
     "output_type": "execute_result"
    }
   ],
   "source": [
    "## list 创建 0～9 的平方list\n",
    "[x*x for x in range(10)]"
   ]
  },
  {
   "cell_type": "code",
   "execution_count": 4,
   "metadata": {},
   "outputs": [
    {
     "data": {
      "text/plain": [
       "{'K0': 0,\n",
       " 'K1': 1,\n",
       " 'K2': 8,\n",
       " 'K3': 27,\n",
       " 'K4': 64,\n",
       " 'K5': 125,\n",
       " 'K6': 216,\n",
       " 'K7': 343,\n",
       " 'K8': 512,\n",
       " 'K9': 729}"
      ]
     },
     "execution_count": 4,
     "metadata": {},
     "output_type": "execute_result"
    }
   ],
   "source": [
    "## dict 创建 0～9 的平方dict, 虽然顺序排列，但是字典无序\n",
    "{'K%d' %(x,):x**3 for x in range(10)}"
   ]
  },
  {
   "cell_type": "code",
   "execution_count": 5,
   "metadata": {},
   "outputs": [
    {
     "data": {
      "text/plain": [
       "{0, 1, 4, 9, 16, 25, 36, 49, 64, 81}"
      ]
     },
     "execution_count": 5,
     "metadata": {},
     "output_type": "execute_result"
    }
   ],
   "source": [
    "## set 0~9 的set\n",
    "{x*x for x in range(10)}"
   ]
  },
  {
   "cell_type": "code",
   "execution_count": 6,
   "metadata": {},
   "outputs": [
    {
     "data": {
      "text/plain": [
       "{1, 2, 3, 4, 5, 6, 7, 8, 9, 10, 11, 12, 13, 14, 15, 16, 17}"
      ]
     },
     "execution_count": 6,
     "metadata": {},
     "output_type": "execute_result"
    }
   ],
   "source": [
    "## 1～17的set，集合会删除重复的元素\n",
    "{x+y for x in range(10) for y in range(x)}"
   ]
  },
  {
   "cell_type": "code",
   "execution_count": 7,
   "metadata": {},
   "outputs": [
    {
     "data": {
      "text/plain": [
       "{1, 2, 3, 4, 5, 6, 7, 8, 9, 10, 11, 12, 13, 14, 15, 16, 17}"
      ]
     },
     "execution_count": 7,
     "metadata": {},
     "output_type": "execute_result"
    }
   ],
   "source": [
    "{x+1 for x in range(17)}"
   ]
  },
  {
   "cell_type": "code",
   "execution_count": 8,
   "metadata": {},
   "outputs": [
    {
     "data": {
      "text/plain": [
       "[1,\n",
       " 2,\n",
       " 3,\n",
       " 3,\n",
       " 4,\n",
       " 5,\n",
       " 4,\n",
       " 5,\n",
       " 6,\n",
       " 7,\n",
       " 5,\n",
       " 6,\n",
       " 7,\n",
       " 8,\n",
       " 9,\n",
       " 6,\n",
       " 7,\n",
       " 8,\n",
       " 9,\n",
       " 10,\n",
       " 11,\n",
       " 7,\n",
       " 8,\n",
       " 9,\n",
       " 10,\n",
       " 11,\n",
       " 12,\n",
       " 13,\n",
       " 8,\n",
       " 9,\n",
       " 10,\n",
       " 11,\n",
       " 12,\n",
       " 13,\n",
       " 14,\n",
       " 15,\n",
       " 9,\n",
       " 10,\n",
       " 11,\n",
       " 12,\n",
       " 13,\n",
       " 14,\n",
       " 15,\n",
       " 16,\n",
       " 17]"
      ]
     },
     "execution_count": 8,
     "metadata": {},
     "output_type": "execute_result"
    }
   ],
   "source": [
    "## 列表是列出所有元素，会有重复\n",
    "[x+y for x in range(10) for y in range(x)]"
   ]
  },
  {
   "cell_type": "code",
   "execution_count": 9,
   "metadata": {},
   "outputs": [
    {
     "data": {
      "text/plain": [
       "[0, 4, 16, 36, 64]"
      ]
     },
     "execution_count": 9,
     "metadata": {},
     "output_type": "execute_result"
    }
   ],
   "source": [
    "## 创建0～9中能被2整除的平方\n",
    "[x*x for x in range(10) if x%2 == 0]"
   ]
  },
  {
   "cell_type": "code",
   "execution_count": 10,
   "metadata": {},
   "outputs": [
    {
     "data": {
      "text/plain": [
       "['ABC', 'XYZ']"
      ]
     },
     "execution_count": 10,
     "metadata": {},
     "output_type": "execute_result"
    }
   ],
   "source": [
    "[x.upper() for x in [1, 'abc', 'xyz', True] if isinstance(x, str)]"
   ]
  },
  {
   "cell_type": "markdown",
   "metadata": {},
   "source": [
    "### 生成器Generator特点\n",
    "    \n",
    "    1. 返回 一个生成器对象，或可迭代对象\n",
    "    2. 不立即产生元素，仅在使用元素时产生，可以极大节省内存"
   ]
  },
  {
   "cell_type": "code",
   "execution_count": 11,
   "metadata": {},
   "outputs": [
    {
     "data": {
      "text/plain": [
       "<generator object <genexpr> at 0x7f59f15e7d50>"
      ]
     },
     "execution_count": 11,
     "metadata": {},
     "output_type": "execute_result"
    }
   ],
   "source": [
    "## 生成器\n",
    "agen = (x*x for x in range(10))\n",
    "agen"
   ]
  },
  {
   "cell_type": "code",
   "execution_count": 12,
   "metadata": {},
   "outputs": [
    {
     "name": "stdout",
     "output_type": "stream",
     "text": [
      "0\n",
      "1\n",
      "4\n",
      "9\n",
      "16\n",
      "25\n",
      "36\n",
      "49\n",
      "64\n",
      "81\n"
     ]
    }
   ],
   "source": [
    "for n in agen:\n",
    "    print(n)"
   ]
  },
  {
   "cell_type": "markdown",
   "metadata": {},
   "source": [
    "### 生成器函数Generator Function (GF)\n",
    "    \n",
    "    生成器Generator:\n",
    "        1. 创建py序列的一个对象\n",
    "        2. 使用他可以迭代庞大的序列，且不需要创建和存储整个序列\n",
    "## ** 节省内存\n",
    "\n",
    "        3. 生成器是为迭代器产生数据的"
   ]
  },
  {
   "cell_type": "markdown",
   "metadata": {},
   "source": [
    "### Why generator function?\n",
    "    \n",
    "    若要创建比较大的序列，生成器推导式会比较复杂，一行表达式无法完成，所以定义生成器函数\n",
    "    \n",
    "    生成器函数与普通函数相同，值是return 换成 yield\n",
    "    \n",
    "### Yield vs Return\n",
    "\n",
    "    yield:\n",
    "        立即返回一个值，下次迭代GF时，从yield语句后继续执行，直到yield再次返回或终止\n",
    "        \n",
    "    return:\n",
    "        终止函数执行，下次调用会重新执行函数"
   ]
  },
  {
   "cell_type": "code",
   "execution_count": 13,
   "metadata": {},
   "outputs": [
    {
     "name": "stdout",
     "output_type": "stream",
     "text": [
      "0\n",
      "2\n",
      "4\n",
      "6\n",
      "8\n"
     ]
    }
   ],
   "source": [
    "def even_number(max):\n",
    "    n = 0\n",
    "    while n < max:\n",
    "        yield n\n",
    "        n += 2\n",
    "        \n",
    "for i in even_number(10):\n",
    "    print(i)"
   ]
  },
  {
   "cell_type": "code",
   "execution_count": 14,
   "metadata": {},
   "outputs": [
    {
     "name": "stdout",
     "output_type": "stream",
     "text": [
      "2\n",
      "4\n",
      "6\n",
      "8\n",
      "10\n"
     ]
    },
    {
     "data": {
      "text/plain": [
       "10"
      ]
     },
     "execution_count": 14,
     "metadata": {},
     "output_type": "execute_result"
    }
   ],
   "source": [
    "def even_number(max):\n",
    "    n = 0\n",
    "    while n < max:\n",
    "        n += 2\n",
    "        print(n)\n",
    "    return n\n",
    "        \n",
    "even_number(10)\n",
    "\n",
    "#调用正常函数时，最终会返回n的值，先print2～10，再print返回值n，即10"
   ]
  },
  {
   "cell_type": "code",
   "execution_count": null,
   "metadata": {},
   "outputs": [],
   "source": []
  }
 ],
 "metadata": {
  "kernelspec": {
   "display_name": "Python 3",
   "language": "python",
   "name": "python3"
  },
  "language_info": {
   "codemirror_mode": {
    "name": "ipython",
    "version": 3
   },
   "file_extension": ".py",
   "mimetype": "text/x-python",
   "name": "python",
   "nbconvert_exporter": "python",
   "pygments_lexer": "ipython3",
   "version": "3.7.4"
  }
 },
 "nbformat": 4,
 "nbformat_minor": 2
}
